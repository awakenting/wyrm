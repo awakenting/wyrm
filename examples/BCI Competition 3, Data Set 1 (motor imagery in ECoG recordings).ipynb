{
 "cells": [
  {
   "cell_type": "markdown",
   "metadata": {},
   "source": [
    "### Getting the Dataset\n",
    "\n",
    "This example uses the [Data Set 1][bcicomp3ds1] from the BCI Competition 3. After downloading and copying it into a directory called `data` next to this script, you should be able to follow this example.\n",
    "\n",
    "[bcicomp3ds1]: http://www.bbci.de/competition/iii/#data_set_i\n"
   ]
  },
  {
   "cell_type": "code",
   "execution_count": 1,
   "metadata": {
    "collapsed": false
   },
   "outputs": [],
   "source": [
    "from __future__ import division\n",
    "\n",
    "import numpy as np\n",
    "import scipy as sp\n",
    "from scipy.io import loadmat\n",
    "from matplotlib import pyplot as plt\n",
    "import matplotlib as mpl\n",
    "\n",
    "from wyrm import processing as proc\n",
    "from wyrm.types import Data\n",
    "from wyrm import plot\n",
    "from wyrm.io import load_bcicomp3_ds1\n",
    "plot.beautify()"
   ]
  },
  {
   "cell_type": "code",
   "execution_count": 2,
   "metadata": {
    "collapsed": false
   },
   "outputs": [],
   "source": [
    "DATA_DIR = 'data/BCI_COMP_III_Tuebingen/'\n",
    "TRUE_LABELS = 'data/BCI_COMP_III_Tuebingen/true_labels.txt'"
   ]
  },
  {
   "cell_type": "code",
   "execution_count": 3,
   "metadata": {
    "collapsed": false
   },
   "outputs": [],
   "source": [
    "# load test and training data\n",
    "dat_train, dat_test = load_bcicomp3_ds1(DATA_DIR)\n",
    "\n",
    "# load true labels\n",
    "true_labels = np.loadtxt(TRUE_LABELS).astype('int')\n",
    "# map labels -1 -> 0\n",
    "true_labels[true_labels == -1] = 0"
   ]
  },
  {
   "cell_type": "code",
   "execution_count": 4,
   "metadata": {
    "collapsed": false
   },
   "outputs": [],
   "source": [
    "def plot_csp_pattern(a):\n",
    "    # get symmetric min/max values for the color bar from first and last column of the pattern\n",
    "    maxv = np.max(np.abs(a[:, [0, -1]]))\n",
    "    minv = -maxv\n",
    "    \n",
    "    im_args = {'interpolation' : 'None', \n",
    "           'vmin' : minv, \n",
    "           'vmax' : maxv\n",
    "           }\n",
    "\n",
    "    # plot\n",
    "    ax1 = plt.subplot2grid((1,11), (0,0), colspan=5)\n",
    "    ax2 = plt.subplot2grid((1,11), (0,5), colspan=5)\n",
    "    ax3 = plt.subplot2grid((1,11), (0,10))\n",
    "\n",
    "    ax1.imshow(a[:, 0].reshape(8, 8), **im_args)\n",
    "    ax1.set_title('Pinky')\n",
    "\n",
    "    ax = ax2.imshow(a[:, -1].reshape(8, 8), **im_args)\n",
    "    ax2.set_title('Tongue')\n",
    "\n",
    "    plt.colorbar(ax, cax=ax3)\n",
    "    plt.tight_layout()"
   ]
  },
  {
   "cell_type": "code",
   "execution_count": 5,
   "metadata": {
    "collapsed": false
   },
   "outputs": [],
   "source": [
    "def preprocess(data, filt=None):\n",
    "    dat = data.copy()\n",
    "    fs_n = dat.fs / 2\n",
    "    \n",
    "    b, a = proc.signal.butter(5, [13 / fs_n], btype='low')\n",
    "    dat = proc.filtfilt(dat, b, a)\n",
    "    \n",
    "    b, a = proc.signal.butter(5, [9 / fs_n], btype='high')\n",
    "    dat = proc.filtfilt(dat, b, a)\n",
    "    \n",
    "    dat = proc.subsample(dat, 50)\n",
    "\n",
    "    if filt is None:\n",
    "        filt, pattern, _ = proc.calculate_csp(dat)\n",
    "        plot_csp_pattern(pattern)\n",
    "    dat = proc.apply_csp(dat, filt)\n",
    "    \n",
    "    dat = proc.variance(dat)\n",
    "    dat = proc.logarithm(dat)\n",
    "    return dat, filt"
   ]
  },
  {
   "cell_type": "code",
   "execution_count": 6,
   "metadata": {
    "collapsed": false
   },
   "outputs": [],
   "source": [
    "fv_train, filt = preprocess(dat_train)\n",
    "fv_test, _ = preprocess(dat_test, filt)"
   ]
  },
  {
   "cell_type": "code",
   "execution_count": 7,
   "metadata": {
    "collapsed": false
   },
   "outputs": [
    {
     "name": "stdout",
     "output_type": "stream",
     "text": [
      "LDA Accuracy 0.94%\n"
     ]
    }
   ],
   "source": [
    "cfy = proc.lda_train(fv_train)\n",
    "result = proc.lda_apply(fv_test, cfy)\n",
    "result = (np.sign(result) + 1) / 2\n",
    "print 'LDA Accuracy %.2f%%' % ((result == true_labels).sum() / len(result))"
   ]
  },
  {
   "cell_type": "code",
   "execution_count": 8,
   "metadata": {
    "collapsed": false
   },
   "outputs": [],
   "source": [
    "plt.show()"
   ]
  },
  {
   "cell_type": "code",
   "execution_count": 8,
   "metadata": {
    "collapsed": false
   },
   "outputs": [],
   "source": []
  }
 ],
 "metadata": {
  "anaconda-cloud": {},
  "kernelspec": {
   "display_name": "Python [default]",
   "language": "python",
   "name": "python3"
  },
  "language_info": {
   "codemirror_mode": {
    "name": "ipython",
    "version": 3
   },
   "file_extension": ".py",
   "mimetype": "text/x-python",
   "name": "python",
   "nbconvert_exporter": "python",
   "pygments_lexer": "ipython3",
   "version": "3.5.2"
  }
 },
 "nbformat": 4,
 "nbformat_minor": 0
}

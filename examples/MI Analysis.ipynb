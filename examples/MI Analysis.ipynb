{
 "cells": [
  {
   "cell_type": "code",
   "execution_count": 1,
   "metadata": {
    "collapsed": false
   },
   "outputs": [],
   "source": [
    "from __future__ import division\n",
    "\n",
    "import numpy as np\n",
    "from matplotlib import pyplot as plt\n",
    "from scipy.signal import butter\n",
    "\n",
    "from wyrm import processing as proc\n",
    "from wyrm import plot\n",
    "from wyrm import io"
   ]
  },
  {
   "cell_type": "code",
   "execution_count": 2,
   "metadata": {
    "collapsed": false
   },
   "outputs": [],
   "source": [
    "cnt = io.load_brain_vision_data('data/mi/VPkg_08_08_07/imag_arrowVPkg.vhdr')"
   ]
  },
  {
   "cell_type": "code",
   "execution_count": 3,
   "metadata": {
    "collapsed": false
   },
   "outputs": [],
   "source": [
    "# remove unneeded channels\n",
    "#cnt = proc.remove_channels(cnt, ['EMG.*', 'EOG.*', 'FT.*', 'TP.*', 'I.*', 'P9', 'P10', 'OI.*'])\n",
    "cnt = proc.remove_channels(cnt, ['EMG.*', 'EOG.*'])"
   ]
  },
  {
   "cell_type": "code",
   "execution_count": 4,
   "metadata": {
    "collapsed": false
   },
   "outputs": [],
   "source": [
    "# band pass data\n",
    "fn = cnt.fs / 2\n",
    "b, a = butter(4, [10 / fn, 14 / fn], btype='band')\n",
    "cnt = proc.lfilter(cnt, b, a)"
   ]
  },
  {
   "cell_type": "code",
   "execution_count": 5,
   "metadata": {
    "collapsed": false
   },
   "outputs": [],
   "source": [
    "# subsampling\n",
    "cnt = proc.subsample(cnt, 100)"
   ]
  },
  {
   "cell_type": "code",
   "execution_count": 6,
   "metadata": {
    "collapsed": false
   },
   "outputs": [],
   "source": [
    "# for mi we use ~750-3500ms range\n",
    "mrk_def = {'class 1': ['S  1'],\n",
    "           'class 2': ['S  2'],\n",
    "           'class 3': ['S  3']\n",
    "           }\n",
    "epo = proc.segment_dat(cnt, mrk_def, [-100, 3500])\n",
    "epo = proc.correct_for_baseline(epo, [-100, 0])"
   ]
  },
  {
   "cell_type": "code",
   "execution_count": 7,
   "metadata": {
    "collapsed": false
   },
   "outputs": [],
   "source": [
    "# rectify channels\n",
    "epo2 = proc.rectify_channels(epo)"
   ]
  },
  {
   "cell_type": "code",
   "execution_count": 8,
   "metadata": {
    "collapsed": false
   },
   "outputs": [],
   "source": [
    "epo_avg = proc.calculate_classwise_average(epo2)\n",
    "for i, e in enumerate(epo_avg.class_names):\n",
    "    plot.plot_channels(proc.select_epochs(epo_avg, [i]))\n",
    "plt.show()"
   ]
  },
  {
   "cell_type": "code",
   "execution_count": 9,
   "metadata": {
    "collapsed": false
   },
   "outputs": [],
   "source": [
    "epo = proc.select_ival(epo, [750, 3500])"
   ]
  },
  {
   "cell_type": "code",
   "execution_count": 10,
   "metadata": {
    "collapsed": false
   },
   "outputs": [],
   "source": [
    "data_left = proc.select_classes(epo, [0]).data\n",
    "data_right = proc.select_classes(epo, [1]).data\n",
    "w, a, d = proc.calculate_csp(data_left, data_right)\n",
    "# the interesting channels are usuall c3, c4 and cz\n",
    "for ii, i in enumerate([0, 1, 2, -3, -2, -1]):\n",
    "    plt.subplot(2, 3, ii+1)\n",
    "    plot.plot_scalp(a[:,i], epo.axes[-1])\n",
    "    plt.title(i)\n",
    "plt.show()"
   ]
  },
  {
   "cell_type": "code",
   "execution_count": 10,
   "metadata": {
    "collapsed": false
   },
   "outputs": [],
   "source": []
  }
 ],
 "metadata": {
  "anaconda-cloud": {},
  "kernelspec": {
   "display_name": "Python [default]",
   "language": "python",
   "name": "python3"
  },
  "language_info": {
   "codemirror_mode": {
    "name": "ipython",
    "version": 3
   },
   "file_extension": ".py",
   "mimetype": "text/x-python",
   "name": "python",
   "nbconvert_exporter": "python",
   "pygments_lexer": "ipython3",
   "version": "3.5.2"
  }
 },
 "nbformat": 4,
 "nbformat_minor": 0
}
